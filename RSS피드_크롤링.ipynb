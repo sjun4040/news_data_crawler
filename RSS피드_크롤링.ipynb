{
 "cells": [
  {
   "cell_type": "markdown",
   "id": "f15487e7",
   "metadata": {},
   "source": [
    "# 뉴스 데이터 수집 프로젝트"
   ]
  },
  {
   "cell_type": "markdown",
   "id": "1c86befb",
   "metadata": {},
   "source": [
    "# 0. 라이브러리 불러오기"
   ]
  },
  {
   "cell_type": "code",
   "execution_count": 24,
   "id": "b860f317",
   "metadata": {},
   "outputs": [],
   "source": [
    "# HTTP 요청 및 HTML 파싱\n",
    "import requests\n",
    "from bs4 import BeautifulSoup\n",
    "\n",
    "#데이터베이스 설계\n",
    "from sqlalchemy import create_engine, text\n",
    "\n",
    "# 데이터 및 시간 관리\n",
    "import pandas as pd\n",
    "import time\n",
    "import random\n",
    "from datetime import datetime\n",
    "from dateutil import parser\n",
    "\n",
    "# 예외 처리\n",
    "from requests.exceptions import RequestException\n",
    "\n",
    "# MySQL 연동\n",
    "import pymysql\n",
    "\n",
    "# 시각화 \n",
    "from konlpy.tag import Okt  # 한글 명사 추출용\n",
    "from collections import Counter\n",
    "import matplotlib.pyplot as plt\n",
    "from wordcloud import WordCloud \n",
    "import re\n",
    "from collections import Counter"
   ]
  },
  {
   "cell_type": "markdown",
   "id": "38b7cd1c",
   "metadata": {},
   "source": [
    "## 1. 수집 대상 뉴스 사이트 선정"
   ]
  },
  {
   "cell_type": "markdown",
   "id": "1fadaf59",
   "metadata": {},
   "source": [
    "매일경제 RSS서비스 경제뉴스 "
   ]
  },
  {
   "cell_type": "code",
   "execution_count": 4,
   "id": "20789ebb",
   "metadata": {},
   "outputs": [],
   "source": [
    "url = 'https://www.mk.co.kr/rss/30100041/'"
   ]
  },
  {
   "cell_type": "markdown",
   "id": "700866a2",
   "metadata": {},
   "source": [
    "## 2. 데이터 구조, MySQL 테이블 설계"
   ]
  },
  {
   "cell_type": "code",
   "execution_count": 5,
   "id": "4eb4c86b",
   "metadata": {},
   "outputs": [
    {
     "name": "stdout",
     "output_type": "stream",
     "text": [
      "테이블 자동생성 완료\n"
     ]
    }
   ],
   "source": [
    "# MySQL 기본 접속 정보 입력\n",
    "user = 'root'\n",
    "password = '1234'\n",
    "host = 'localhost'\n",
    "\n",
    "# 1. 데이터베이스(news_db) 생성\n",
    "# MySQL 연결\n",
    "conn = pymysql.connect(\n",
    "    host=host, user=user, password=password, db='mysql', charset='utf8mb4'\n",
    ")\n",
    "conn.autocommit(True)\n",
    "with conn.cursor() as cursor:\n",
    "    cursor.execute(\"CREATE DATABASE IF NOT EXISTS news_db CHARACTER SET utf8mb4 COLLATE utf8mb4_unicode_ci;\")\n",
    "conn.close()\n",
    "\n",
    "# 2. news_db에 sqlalchemy로 연결\n",
    "engine = create_engine(f\"mysql+pymysql://{user}:{password}@{host}/news_db?charset=utf8mb4\")\n",
    "\n",
    "# 3. 테이블 생성 쿼리\n",
    "create_table_sql = \"\"\"\n",
    "CREATE TABLE IF NOT EXISTS mk_economy_news (\n",
    "    id INT AUTO_INCREMENT PRIMARY KEY,\n",
    "    title VARCHAR(255) NOT NULL,\n",
    "    link VARCHAR(500) NOT NULL UNIQUE,\n",
    "    description TEXT,\n",
    "    pub_date DATETIME,\n",
    "    image_url VARCHAR(500),\n",
    "    created_at TIMESTAMP DEFAULT CURRENT_TIMESTAMP\n",
    ")\n",
    "\"\"\"\n",
    "\n",
    "with engine.connect() as conn:\n",
    "    conn.execute(text(create_table_sql))\n",
    "    print('테이블 자동생성 완료')\n"
   ]
  },
  {
   "cell_type": "markdown",
   "id": "c40dfbc9",
   "metadata": {},
   "source": [
    "## 3. 파싱 설계 및 구현"
   ]
  },
  {
   "cell_type": "code",
   "execution_count": 10,
   "id": "f01dd2da",
   "metadata": {},
   "outputs": [
    {
     "name": "stdout",
     "output_type": "stream",
     "text": [
      "{'title': '대출 막힌 취약층…휴대전화 소액결제까지 손 벌린다', 'link': 'https://www.mk.co.kr/news/economy/11379878', 'description': '제2금융권 등 대출처 줄어 불법업체 수수료에 서민 울상신용대출 한도를 연봉 이내로 제한한 ‘6·27 가계부채 대책’ 이후 급전이 필요한 취약계층이 휴대전화 소액결제까지 손대고 있다..', 'pub_date': datetime.datetime(2025, 7, 29, 10, 23, 58, tzinfo=tzoffset(None, 32400)), 'image_url': 'https://pimg.mk.co.kr/news/cms/202507/29/news-p.v1.20250729.6122a58ff1e0429aa415a93a92922c63_R.png'}\n",
      "{'title': '“저축은행도 AI 활용합니다”…챗GPT ‘열공’한다', 'link': 'https://www.mk.co.kr/news/economy/11379875', 'description': 'JT저축은행, 한국폴리텍대학과 교육 진행  데이터 분석 교육에 임직원 50여명 참여JT저축은행이 한국폴리텍대학과 인공지능 시대 임직원 디지털 역량 강화를 위한 챗GPT 활용 교육을..', 'pub_date': datetime.datetime(2025, 7, 29, 10, 22, 3, tzinfo=tzoffset(None, 32400)), 'image_url': 'https://pimg.mk.co.kr/news/cms/202507/29/news-p.v1.20250729.07718469886c432db23f6bf85a2a9025_R.jpeg'}\n",
      "{'title': '시중은행, 전체 대출 늘리는데...자영업자만 줄었다', 'link': 'https://www.mk.co.kr/news/economy/11379817', 'description': '가계·기업 대출 40조 증가했지만 상반기 소상공인 여신은 4조 감소올 상반기 주요 시중은행이 가계·기업 대출을 늘린 가운데 유독 자영업자 등 소호 대출만 감소한 것으로 나타났다. ..', 'pub_date': datetime.datetime(2025, 7, 29, 9, 46, 19, tzinfo=tzoffset(None, 32400)), 'image_url': 'https://pimg.mk.co.kr/news/cms/202507/29/news-p.v1.20250728.930aec99204341dea036e367c1e86ca0_R.jpg'}\n"
     ]
    }
   ],
   "source": [
    "response = requests.get(url)\n",
    "soup = BeautifulSoup(response.content, 'xml')  \n",
    "\n",
    "news_list = []\n",
    "for item in soup.find_all('item'):\n",
    "    title = item.title.get_text(strip=True)\n",
    "    link = item.link.get_text(strip=True)\n",
    "    description = item.description.get_text(strip=True)\n",
    "    pub_date_raw = item.pubDate.get_text(strip=True)\n",
    "    # 등록일 형태 변환 \n",
    "    pub_date = parser.parse(pub_date_raw)\n",
    "    media = item.find('media:content')\n",
    "    image_url = media['url'] if media and media.has_attr('url') else None\n",
    "\n",
    "    news_list.append({\n",
    "        'title': title,\n",
    "        'link': link,\n",
    "        'description': description,\n",
    "        'pub_date': pub_date,\n",
    "        'image_url': image_url\n",
    "    })\n",
    "\n",
    "# 결과 확인\n",
    "for news in news_list[:3]: \n",
    "    print(news)\n"
   ]
  },
  {
   "cell_type": "markdown",
   "id": "bd69989f",
   "metadata": {},
   "source": [
    "## 4. 데이터 수집, 정합성 검증, SQL DB연결 파이프라인 개발 "
   ]
  },
  {
   "cell_type": "code",
   "execution_count": 15,
   "id": "d9700d23",
   "metadata": {},
   "outputs": [
    {
     "name": "stdout",
     "output_type": "stream",
     "text": [
      "[중복 스킵] 대출 막힌 취약층…휴대전화 소액결제까지 손 벌린다\n",
      "[중복 스킵] “저축은행도 AI 활용합니다”…챗GPT ‘열공’한다\n",
      "[중복 스킵] 시중은행, 전체 대출 늘리는데...자영업자만 줄었다\n",
      "[중복 스킵] 회장 이어 행장도…신한은행, 우수고객 간담회 개최\n",
      "[중복 스킵] 고르기 어려운 중고차…인증중고차 플랫폼서 전용 할부상품 활용할만\n",
      "[중복 스킵] 말로만 친기업 외친 여당…관세전쟁 와중에 ‘반기업 3법’ 속도\n",
      "[중복 스킵] 매경이 전하는 세상의 지식 (매-세-지, 7월 29일)\n",
      "[중복 스킵] 요즘 은행가면 예금대신 여기에 돈 넣는다는데…상반기 5조 몰린 이 상품\n",
      "[중복 스킵] 유튜브 영향력 대단하네…대한민국 잠자는 시간 처음으로 줄었다\n",
      "[중복 스킵] “카드값 못 막는 사람 너무 많아”…상반기 카드사 실적 타격, 순익 18% 감소\n",
      "[중복 스킵] “해외에서 K쇼핑하고 싶어도 못해요”…이것 하나 때문에 꽉 막힌 역직구\n",
      "[중복 스킵] “AI 투자한다고 당장 수익 못거둬, 손실 견뎌야 큰 것 얻어” 입모은 경영구루들\n",
      "[중복 스킵] “너도 샀어? 나도 그걸로 뽑았어”…요즘 신차 10대 중 1대는 전기차\n",
      "[중복 스킵] AI로 진화한 보이스피싱, AI로 막는다…의심계좌 포착되면 즉시 차단도\n",
      "[중복 스킵] 상호관세 인하, 15%가 마지노선…대미 투자 즉석에서 늘리는 ‘트럼프의 협상’\n",
      "[중복 스킵] 이재명 대통령 ‘이자놀이’ 경고에…은행들 부동산대출 벽 높인다\n",
      "[중복 스킵] 조선업 협력 제안하며 미국 막판 설득…한미 관세협상 쌀·소고기도 협상 테이블에\n",
      "[중복 스킵] 금융위 부위원장 지인도 당했다는데…“피싱 막으려면, 주소록에 어머니 저장 금물”\n",
      "[중복 스킵] 국정위 \"첨단산업펀드 150조+α 증액 검토\"\n",
      "[중복 스킵] “소송 이겨봤자 결국 빈손”...대기업한테 기술 뺏긴 중기 6곳중 1곳 망했다\n",
      "[중복 스킵] 금융·통신·수사 데이터 싹다 모아 사전 탐지…보이스피싱 국가 컨트롤타워 만든다\n",
      "[중복 스킵] 일본도 EU도 상호관세 15% 도장 ‘꽝’...핀치 몰린 한국의 전략은\n",
      "[중복 스킵] KB금융 “하반기 발표 주주환원 8500억 중 1900억 내년 1분기 집행”\n",
      "[중복 스킵] 친환경차 300만대 돌파 …전기차가 이끌어\n",
      "[중복 스킵] 탈세 잡고 세무컨설팅까지 국세청 AI 혁신추진단 첫발\n",
      "[중복 스킵] 상반기 집값, 서울 강남만 크게 올라\n",
      "[중복 스킵] \"본인인증 번거롭고 결제 불편\" 韓온라인몰 외면하는 외국인\n",
      "[중복 스킵] 권대영 \"휴대폰에 '어머니'로 저장하지 마세요\"\n",
      "[중복 스킵] [포토] 주택금융公·부산시 ESG 맞손\n",
      "[중복 스킵] [표] 외국환율고시표\n",
      "[중복 스킵] \"이젠 銀도 소액투자\" 신한은행 전국 판매\n",
      "[중복 스킵] 지수연계예금 好好 … 상반기 5조 몰렸다\n",
      "[중복 스킵] 자본규제 강화 … 부동산대출 벽 더 높인다\n",
      "[중복 스킵] 경기한파 부실차주 급증 카드사 순이익 18% 줄어\n",
      "[중복 스킵] 푸본현대생명, 독거 어르신·취약 아동에게 삼계탕과 밑반찬 전달\n",
      "[중복 스킵] “스테이블코인 도입되면 ‘카드’ 사라지나?”…결제 방법 대전환기 도래할까\n",
      "[중복 스킵] “뉴욕증시 급등했는데 내 美펀드 수익률 왜이래?”…투자전 ‘이것’ 체크해야\n",
      "[중복 스킵] “펀드 수익률 왜 이래요?”…헷갈리기 딱 좋은 금융상품 무엇?\n",
      "[중복 스킵] 한식당 운영비 절반이 식재료값…월 861만원 달해 ‘고물가 직격탄’\n",
      "[중복 스킵] ‘개소리’내며 소몰이 하고, 스트레스 받는 작물도 감지...못하는게 없는 드론 [호주 애그테크 NOW]\n",
      "[중복 스킵] 올해 주가 상승에...5조 몰려 불티나게 팔린 이 상품\n",
      "[중복 스킵] 고금리만 보고 가입했다가 낭패…‘미끼 상품’에 우는 금융 소비자\n",
      "[중복 스킵] [속보] 소비쿠폰 일주일 만에 10명 중 8명 신청…7조1200억원 지급\n",
      "[중복 스킵] “실버바 소액 투자한다”…신한, 1kg씩 팔던 실버바 100g 단위로 판매\n",
      "[중복 스킵] 코인 단기 조정 주의...규제 변수 주목해야[엠블록레터]\n",
      "[중복 스킵] “코인 통장에 넣으면 연2% 주는데”...‘0.1% 짠물통장’서 83조 빠졌다\n",
      "[중복 스킵] 한미 2+2 회담 이달 31일 ‘버저비터 협상’...조선·쌀·소고기 협상카드 총동원\n",
      "[중복 스킵] 외국인 노동자 ‘지게차 괴롭힘’ 후폭풍…이주노동자 이직 제한 손본다\n",
      "[중복 스킵] “주택대출 털고 본격 은퇴자금 준비”...요즘 50대 여기서 노후대비 한다는데\n",
      "[중복 스킵] 李정부 첫 세제 개편안 사실상 확정…“배당소득 분리과세도입”\n"
     ]
    }
   ],
   "source": [
    "# DB 접속 정보\n",
    "user = 'root'\n",
    "password = '1234'\n",
    "host = 'localhost'\n",
    "db = 'news_db'\n",
    "engine = create_engine(f\"mysql+pymysql://{user}:{password}@{host}/{db}?charset=utf8mb4\")\n",
    "\n",
    "# SQL INSERT 쿼리\n",
    "insert_sql = \"\"\"\n",
    "    INSERT INTO mk_economy_news\n",
    "    (title, link, description, pub_date, image_url)\n",
    "    VALUES (:title, :link, :description, :pub_date, :image_url)\n",
    "\"\"\"\n",
    "\n",
    "# 필수값 정합성 체크 함수\n",
    "def is_valid(news_item):\n",
    "    required_fields = ['title', 'link', 'pub_date']\n",
    "    return all(news_item.get(field) for field in required_fields)\n",
    "\n",
    "# 뉴스 DB 저장 함수\n",
    "def insert_news(news_item):\n",
    "    if not is_valid(news_item):\n",
    "        print(f\"[정합성 오류] {news_item}\")\n",
    "        return\n",
    "\n",
    "    with engine.begin() as conn: \n",
    "        # 중복 체크 \n",
    "        result = conn.execute(\n",
    "            text(\"SELECT COUNT(*) FROM mk_economy_news WHERE link = :link\"),\n",
    "            {'link': news_item['link']}\n",
    "        )\n",
    "        count = result.scalar()\n",
    "        if count == 0:\n",
    "            conn.execute(text(insert_sql), news_item)\n",
    "            print(f\"[저장됨] {news_item['title']}\")\n",
    "        else:\n",
    "            print(f\"[중복 스킵] {news_item['title']}\")\n",
    "\n",
    "# 전체 뉴스 저장 \n",
    "for news in news_list:\n",
    "    insert_news(news)\n"
   ]
  },
  {
   "cell_type": "markdown",
   "id": "27845bd0",
   "metadata": {},
   "source": [
    "## 5. 품질점검 요약 리포트 "
   ]
  },
  {
   "cell_type": "code",
   "execution_count": 26,
   "id": "d8f27fef",
   "metadata": {},
   "outputs": [
    {
     "name": "stdout",
     "output_type": "stream",
     "text": [
      "\n",
      "### 전체 뉴스 기사 개수: 50건\n",
      "\n",
      "### 최신 뉴스 10건 요약\n",
      "\n",
      "1. [2025-07-29 10:23:58] 대출 막힌 취약층…휴대전화 소액결제까지 손 벌린다\n",
      "   - 요약: 제2금융권 등 대출처 줄어 불법업체 수수료에 서민 울상신용대출 한도를 연봉 이내로 제한한 ‘6·27 가계부채 대책’ 이후 급전이 필요한 취약계층이 휴대전화 소액결제까지 손대고 있다...\n",
      "   - 링크: https://www.mk.co.kr/news/economy/11379878\n",
      "\n",
      "2. [2025-07-29 10:22:03] “저축은행도 AI 활용합니다”…챗GPT ‘열공’한다\n",
      "   - 요약: JT저축은행, 한국폴리텍대학과 교육 진행  데이터 분석 교육에 임직원 50여명 참여JT저축은행이 한국폴리텍대학과 인공지능 시대 임직원 디지털 역량 강화를 위한 챗GPT 활용 교육을...\n",
      "   - 링크: https://www.mk.co.kr/news/economy/11379875\n",
      "\n",
      "3. [2025-07-29 09:46:19] 시중은행, 전체 대출 늘리는데...자영업자만 줄었다\n",
      "   - 요약: 가계·기업 대출 40조 증가했지만 상반기 소상공인 여신은 4조 감소올 상반기 주요 시중은행이 가계·기업 대출을 늘린 가운데 유독 자영업자 등 소호 대출만 감소한 것으로 나타났다. ...\n",
      "   - 링크: https://www.mk.co.kr/news/economy/11379817\n",
      "\n",
      "4. [2025-07-29 09:20:37] 회장 이어 행장도…신한은행, 우수고객 간담회 개최\n",
      "   - 요약: 진옥동 신한금융 회장 이어 정상혁 행장도 파워유저 초청신한은행이 지난 28일 정상혁 신한은행장 주최로 서울 중구 소재 본점에서 고객 초청 간담회 ‘현장을 듣다, 실행으로 답하다’를...\n",
      "   - 링크: https://www.mk.co.kr/news/economy/11379784\n",
      "\n",
      "5. [2025-07-29 08:35:56] 고르기 어려운 중고차…인증중고차 플랫폼서 전용 할부상품 활용할만\n",
      "   - 요약: 현대자동차 인증 중고차 플랫폼에서 사기당할 염려없이 중고차 구매 가능 현대캐피탈, 현대·기아차 맞춤 금융상품도#사회초년생 하모 씨는 첫차 마련을 고민 중이다. 집이 있는 인천에서 ...\n",
      "   - 링크: https://www.mk.co.kr/news/economy/11379744\n",
      "\n",
      "6. [2025-07-29 07:30:13] 말로만 친기업 외친 여당…관세전쟁 와중에 ‘반기업 3법’ 속도\n",
      "   - 요약: 수천곳 협력사 원청에 파업권 노란봉투법 내달 4일 처리 추진 하도급 산업현장 혼란 불가피  더 세진 상법개정도 강행 방침 野 “법인세 25%는 현실 무시”더불어민주당이 일명 ‘노란...\n",
      "   - 링크: https://www.mk.co.kr/news/economy/11379715\n",
      "\n",
      "7. [2025-07-29 07:00:00] 매경이 전하는 세상의 지식 (매-세-지, 7월 29일)\n",
      "   - 요약: 1. 미국이 유럽연합과 상호관세를 15%로 낮추는 등 무역협정을 전격 타결했습니다. 일본 등 미국 주요 교역국들이 속속 협상을 마무리 지으면서 다음달 1일 상호관세 발효를 앞둔 한...\n",
      "   - 링크: https://www.mk.co.kr/news/economy/11379626\n",
      "\n",
      "8. [2025-07-29 05:57:01] 요즘 은행가면 예금대신 여기에 돈 넣는다는데…상반기 5조 몰린 이 상품\n",
      "   - 요약: 증시 상승에 상품 출시 활발 “저금리국면 예금 대안” 각광올해 들어 주가 상승세가 커지면서 은행권 주가지수연동예금(ELD)에 상반기에만 5조원 넘는 뭉칫돈이 몰렸다. ELD는 주가...\n",
      "   - 링크: https://www.mk.co.kr/news/economy/11379684\n",
      "\n",
      "9. [2025-07-29 05:55:07] 유튜브 영향력 대단하네…대한민국 잠자는 시간 처음으로 줄었다\n",
      "   - 요약: 통계청 ‘2024년 생활시간조사’ 발표 하루 평균 수면시간 8시간 4분…5년 전보다 8분 감소60대 직장인 이광희 씨는 최근 유튜브를 보다가 잠드는 일이 잦아졌다. 영상 시청으로 ...\n",
      "   - 링크: https://www.mk.co.kr/news/economy/11379681\n",
      "\n",
      "10. [2025-07-28 23:17:29] “카드값 못 막는 사람 너무 많아”…상반기 카드사 실적 타격, 순익 18% 감소\n",
      "   - 요약: 소비급감에 상반기 실적 타격 대손비용 1년새 1800억 증가경기 한파가 심해지는 가운데 소비에 민감한 신용카드사들의 올해 상반기 순이익이 최근 1년 새 18% 감소했다. 돈을 빌리...\n",
      "   - 링크: https://www.mk.co.kr/news/economy/11379654\n",
      "\n",
      "\n",
      "(별도 실패 로그 파일이 없어, 실패 기록은 생략합니다.)\n",
      "\n",
      "=== 품질 점검 리포트 생성 완료 ===\n",
      "\n"
     ]
    }
   ],
   "source": [
    "# DB 정보 \n",
    "user = 'root'\n",
    "password = '1234'\n",
    "host = 'localhost'\n",
    "db = 'news_db'\n",
    "engine = create_engine(f\"mysql+pymysql://{user}:{password}@{host}/{db}?charset=utf8mb4\")\n",
    "\n",
    "# 1. 전체 뉴스 기사 개수 집계\n",
    "with engine.connect() as conn:\n",
    "    total_count = conn.execute(text(\"SELECT COUNT(*) FROM mk_economy_news\")).scalar()\n",
    "print(f\"\\n### 전체 뉴스 기사 개수: {total_count}건\\n\")\n",
    "\n",
    "# 2. 최신 기사 10건\n",
    "query = \"\"\"\n",
    "SELECT title, description, pub_date, link\n",
    "FROM mk_economy_news\n",
    "ORDER BY pub_date DESC\n",
    "LIMIT 10\n",
    "\"\"\"\n",
    "df = pd.read_sql(query, engine)\n",
    "\n",
    "print(\"### 최신 뉴스 10건 요약\\n\")\n",
    "for idx, row in df.iterrows():\n",
    "    print(f\"{idx+1}. [{row['pub_date']}] {row['title']}\")\n",
    "    print(f\"   - 요약: {row['description'][:100]}...\")  # 요약문 100자만\n",
    "    print(f\"   - 링크: {row['link']}\\n\")\n",
    "\n",
    "# 3. 크롤링 성공/실패 로그 요약 )\n",
    "log_path = 'log.txt'  \n",
    "try:\n",
    "    with open(log_path, encoding='utf-8') as f:\n",
    "        log_lines = f.readlines()\n",
    "    # 실패 로그만 출력 예시\n",
    "    fail_logs = [line for line in log_lines if '[실패]' in line]\n",
    "    print(f\"\\n### 크롤링 실패 로그 요약 ({len(fail_logs)}건)\\n\")\n",
    "    for line in fail_logs[:5]:  # 상위 5개\n",
    "        print(line.strip())\n",
    "except FileNotFoundError:\n",
    "    print(\"\\n(별도 실패 로그 파일이 없어, 실패 기록은 생략합니다.)\")\n",
    "\n",
    "# 크롤링에 성공한 뉴스 수(=DB insert 성공 수)는 위 전체 기사 개수와 같습니다.\n",
    "print(\"\\n=== 품질 점검 리포트 생성 완료 ===\\n\")\n"
   ]
  },
  {
   "cell_type": "markdown",
   "id": "04b228a8",
   "metadata": {},
   "source": [
    "# 6. 결론"
   ]
  },
  {
   "cell_type": "markdown",
   "id": "ac9d73d0",
   "metadata": {},
   "source": [
    "매일 경제부문 뉴스의 데이터를 RSS 파싱을 통해 추출,<br>\n",
    "MySQL DB에 정합성, 중복관리기능의 안정적인 파이프라인을 구축 성공<br>\n",
    "데이터 품질결과 요약 리포트를 통해 모두 정상적으로 저장, 관리되고 있음을 확인<br>\n",
    "경제 뉴스 데이터 수집 프로젝트를 달성했다고 판단"
   ]
  }
 ],
 "metadata": {
  "kernelspec": {
   "display_name": "webcrawl_env",
   "language": "python",
   "name": "python3"
  },
  "language_info": {
   "codemirror_mode": {
    "name": "ipython",
    "version": 3
   },
   "file_extension": ".py",
   "mimetype": "text/x-python",
   "name": "python",
   "nbconvert_exporter": "python",
   "pygments_lexer": "ipython3",
   "version": "3.10.18"
  }
 },
 "nbformat": 4,
 "nbformat_minor": 5
}
